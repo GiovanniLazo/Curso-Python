{
 "cells": [
  {
   "cell_type": "code",
   "execution_count": null,
   "metadata": {},
   "outputs": [],
   "source": [
    "I= 43\n",
    "if I > 25:\n",
    "    print('Un asteroide se acerca y viaja a una velocidad de ',I, ' km/s' )\n",
    "\n",
    "else:\n",
    "    print('Nada que ver aquì')"
   ]
  },
  {
   "cell_type": "code",
   "execution_count": null,
   "metadata": {},
   "outputs": [],
   "source": [
    "I= 23\n",
    "if I > 20:\n",
    "    print('Mira al cielo ¡Hay una luz màgica en el cielo!' )\n",
    "elif I==20:\n",
    "    print('Mira al cielo ¡Hay una luz màgica en el cielo!')\n",
    "else:\n",
    "    print('Nada que ver aquì')"
   ]
  },
  {
   "cell_type": "code",
   "execution_count": null,
   "metadata": {},
   "outputs": [],
   "source": [
    "V=28\n",
    "T=60\n",
    "if V>25 and T>25:\n",
    "    print('¡Alerta, Un asteroide muy peligroso viene hacia la Tierra!' )\n",
    "elif V>=20:\n",
    "    print('Mira al cielo ¡Hay una luz màgica en el cielo!' )\n",
    "\n",
    "else:\n",
    "    print('Nada que ver aquì')"
   ]
  }
 ],
 "metadata": {
  "interpreter": {
   "hash": "8780f1079158743a97b3c2390d36f0e2eb52e1da92e60be0ad17ca2fd772d77b"
  },
  "kernelspec": {
   "display_name": "Python 3.9.10 64-bit (windows store)",
   "language": "python",
   "name": "python3"
  },
  "language_info": {
   "name": "python",
   "version": "3.9.10"
  },
  "orig_nbformat": 4
 },
 "nbformat": 4,
 "nbformat_minor": 2
}
