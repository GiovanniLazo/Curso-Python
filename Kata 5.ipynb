{
 "cells": [
  {
   "cell_type": "code",
   "execution_count": null,
   "metadata": {},
   "outputs": [],
   "source": [
    "distancia_tiera = 149597870\n",
    "distanica_jupiter = 77854720\n",
    "distancia_km= distanica_jupiter - distancia_tiera\n",
    "print(distancia_km)\n",
    "resultado= distancia_km *.621\n",
    "print(resultado)"
   ]
  },
  {
   "cell_type": "code",
   "execution_count": null,
   "metadata": {},
   "outputs": [],
   "source": [
    "# Almacenar las entradas del usuario\n",
    "p_planeta= input(\"¿Cuál es la distancia del sol para el primer planeta?\")\n",
    "s_planeta=input(\"¿Cuál es la distancia del sol para el segundo planeta?\")\n",
    "# Convierte las cadenas de ambos planetas a números enteros\n",
    "p_planeta=int(p_planeta)\n",
    "s_planeta=int(s_planeta)"
   ]
  },
  {
   "cell_type": "code",
   "execution_count": null,
   "metadata": {},
   "outputs": [],
   "source": [
    "# Realizar el cálculo y determinar el valor absoluto\n",
    "distancia=abs(p_planeta-s_planeta)\n",
    "print('la distancia entre el primer planeta y el segundo planeta es', distancia ,' en km')\n",
    "# Convertir de KM a Millas\n",
    "distancia_millas= distancia * .621\n",
    "print('la distancia entre el primer planeta y el segundo planeta es', distancia_millas,' en millas')\n",
    "la distancia entre el primer planeta y el segundo planeta es 50300000  en km\n",
    "la distancia entre el primer planeta y el segundo planeta es 31236300.0  en millas"
   ]
  }
 ],
 "metadata": {
  "interpreter": {
   "hash": "8780f1079158743a97b3c2390d36f0e2eb52e1da92e60be0ad17ca2fd772d77b"
  },
  "kernelspec": {
   "display_name": "Python 3.9.10 64-bit (windows store)",
   "language": "python",
   "name": "python3"
  },
  "language_info": {
   "name": "python",
   "version": "3.9.10"
  },
  "orig_nbformat": 4
 },
 "nbformat": 4,
 "nbformat_minor": 2
}
