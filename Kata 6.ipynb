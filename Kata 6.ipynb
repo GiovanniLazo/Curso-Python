{
 "cells": [
  {
   "cell_type": "code",
   "execution_count": null,
   "metadata": {},
   "outputs": [],
   "source": [
    "# Creamos la lista planets y la mostramos\n",
    "planetas = ['Mercurio', 'Venus','Tierra','Marte','Jupiter','Saturno','Uranus','Neptuno']\n",
    "print(planetas)"
   ]
  },
  {
   "cell_type": "code",
   "execution_count": null,
   "metadata": {},
   "outputs": [],
   "source": [
    "# Agregamos a plutón y mostramos el último elemento\n",
    "planetas.append('Pluto')\n",
    "numero_de_planetas = len(planetas)\n",
    "print('El último planeta agregado a la lista fue', planetas[8])"
   ]
  },
  {
   "cell_type": "code",
   "execution_count": null,
   "metadata": {},
   "outputs": [],
   "source": [
    "# Lista de planetas\n",
    "planetas=['Mercurio', 'Venus','Tierra','Marte','Jupiter','Saturno','Uranus','Neptuno']\n",
    "# Solicitamos el nombre de un planeta\n",
    "x=input('Introduce el nombre de un planeta')"
   ]
  },
  {
   "cell_type": "code",
   "execution_count": null,
   "metadata": {},
   "outputs": [],
   "source": [
    "# Busca el planeta en la lista\n",
    "x_index = planetas.index(x)\n",
    "# Muestra los planetas más cercanos al sol\n",
    "print('Estos planetas estan más cerca del sol que' ,x, planetas[0:x_index])"
   ]
  },
  {
   "cell_type": "code",
   "execution_count": null,
   "metadata": {},
   "outputs": [],
   "source": [
    "print('Estos planetas estan más alejados del sol que' ,x, planetas[x_index+1:])"
   ]
  }
 ],
 "metadata": {
  "interpreter": {
   "hash": "8780f1079158743a97b3c2390d36f0e2eb52e1da92e60be0ad17ca2fd772d77b"
  },
  "kernelspec": {
   "display_name": "Python 3.9.10 64-bit (windows store)",
   "language": "python",
   "name": "python3"
  },
  "language_info": {
   "name": "python",
   "version": "3.9.10"
  },
  "orig_nbformat": 4
 },
 "nbformat": 4,
 "nbformat_minor": 2
}
